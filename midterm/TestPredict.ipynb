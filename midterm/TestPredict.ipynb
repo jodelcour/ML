{
 "cells": [
  {
   "cell_type": "markdown",
   "id": "aab0053b",
   "metadata": {},
   "source": [
    "### Authorized values for the passenger information:<br>\n",
    "> pclass:1,2,3<br>\n",
    "> age: must be >=0<br>\n",
    "> fare: must be >=0<br>\n",
    "> family: must be >=0<br>\n",
    "> sex: 'male' or 'female'<br>\n",
    "> embarked: 'Cherbourg', 'Queenstown' or 'Southhampton'<br>\n",
    "> title: 'Miss', 'Master', 'Mr', 'Mrs', 'Officer'or 'Royalty'"
   ]
  },
  {
   "cell_type": "code",
   "execution_count": 15,
   "id": "fe08c3b9",
   "metadata": {},
   "outputs": [],
   "source": [
    "import requests"
   ]
  },
  {
   "cell_type": "code",
   "execution_count": 16,
   "id": "69fedfa3",
   "metadata": {},
   "outputs": [],
   "source": [
    "url=\"http://localhost:9696/predict\""
   ]
  },
  {
   "cell_type": "code",
   "execution_count": 53,
   "id": "f887c500",
   "metadata": {},
   "outputs": [],
   "source": [
    "passenger = {'pclass': 3,\n",
    "             'age': 35,\n",
    "             'fare': 500,\n",
    "             'family': 0,\n",
    "             'sex': 'male',\n",
    "             'embarked': 'Southampton',\n",
    "             'title': 'Mr'}"
   ]
  },
  {
   "cell_type": "code",
   "execution_count": 54,
   "id": "63acf5cb",
   "metadata": {},
   "outputs": [
    {
     "data": {
      "text/plain": [
       "{'Probability of survival': 0.43275055289268494, 'survived': False}"
      ]
     },
     "execution_count": 54,
     "metadata": {},
     "output_type": "execute_result"
    }
   ],
   "source": [
    "requests.post(url, json=passenger).json()"
   ]
  },
  {
   "cell_type": "code",
   "execution_count": null,
   "id": "a8f92024",
   "metadata": {},
   "outputs": [],
   "source": []
  },
  {
   "cell_type": "code",
   "execution_count": null,
   "id": "170fd049",
   "metadata": {},
   "outputs": [],
   "source": []
  }
 ],
 "metadata": {
  "kernelspec": {
   "display_name": "Python 3",
   "language": "python",
   "name": "python3"
  },
  "language_info": {
   "codemirror_mode": {
    "name": "ipython",
    "version": 3
   },
   "file_extension": ".py",
   "mimetype": "text/x-python",
   "name": "python",
   "nbconvert_exporter": "python",
   "pygments_lexer": "ipython3",
   "version": "3.8.2"
  }
 },
 "nbformat": 4,
 "nbformat_minor": 5
}
